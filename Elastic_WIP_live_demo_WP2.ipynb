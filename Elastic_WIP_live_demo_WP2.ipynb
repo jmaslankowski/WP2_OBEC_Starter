{
 "cells": [
  {
   "cell_type": "code",
   "execution_count": null,
   "id": "bd19c3d8",
   "metadata": {},
   "outputs": [],
   "source": [
    "import elasticsearch\n",
    "from elasticsearch import Elasticsearch \n",
    "import json\n",
    "import time\n",
    "import pandas as pd"
   ]
  },
  {
   "cell_type": "code",
   "execution_count": null,
   "id": "2bb17419",
   "metadata": {},
   "outputs": [],
   "source": [
    "#check it's the correct version, needs to be compatible with the current kibana version employed by the platform (contact devs)\n",
    "print(elasticsearch.__version__)"
   ]
  },
  {
   "cell_type": "code",
   "execution_count": null,
   "id": "1b57f0a9",
   "metadata": {},
   "outputs": [],
   "source": [
    "test_endpoint = \"vpc-elasticsearch-prod-wv5hkxq47l4hmx5pueelh7fvye.eu-central-1.es.amazonaws.com\""
   ]
  },
  {
   "cell_type": "code",
   "execution_count": null,
   "id": "b907394a",
   "metadata": {},
   "outputs": [],
   "source": [
    "elastic = Elasticsearch([{'host': test_endpoint, 'port': 443, 'scheme': 'https'}])"
   ]
  },
  {
   "cell_type": "code",
   "execution_count": null,
   "id": "3bdcad4e",
   "metadata": {},
   "outputs": [],
   "source": [
    "status = \"status_*\" #add workflow and acquisition IDs in appropriate positions, keep underscores intact"
   ]
  },
  {
   "cell_type": "code",
   "execution_count": null,
   "id": "0d67e179",
   "metadata": {},
   "outputs": [],
   "source": [
    "content = \"content_*\""
   ]
  },
  {
   "cell_type": "code",
   "execution_count": null,
   "id": "aed87dcd",
   "metadata": {},
   "outputs": [],
   "source": [
    "body={\n",
    "    \"query\": {\n",
    "        \"query_string\": {\n",
    "          \"query\": \"stat.gov.pl\"\n",
    "        }\n",
    "    }\n",
    "}\n",
    "\n",
    "\n",
    "\n",
    "resp = elastic.search(index=\"content_*\", body=body)\n",
    "print(\"Got %d Hits:\" % resp['hits']['total']['value'])\n",
    "\n",
    "for doc in resp['hits']['hits']:\n",
    "    print(\"%s\\n %s\" % (doc['_id'], doc['_source']))\n",
    "    htmlfile=str(doc['_source']['html'])\n",
    "    url=str(doc['_source']['fetched_url'])"
   ]
  },
  {
   "cell_type": "code",
   "execution_count": null,
   "id": "72e4f16a",
   "metadata": {},
   "outputs": [],
   "source": [
    "import WPCStarterKit as wsk\n",
    "smp=wsk.SocialMediaPresence()\n",
    "smp.searchSocialMediaLinks(url,htmlfile)"
   ]
  }
 ],
 "metadata": {
  "kernelspec": {
   "display_name": "Python 3.7",
   "language": "python",
   "name": "py3"
  },
  "language_info": {
   "codemirror_mode": {
    "name": "ipython",
    "version": 3
   },
   "file_extension": ".py",
   "mimetype": "text/x-python",
   "name": "python",
   "nbconvert_exporter": "python",
   "pygments_lexer": "ipython3",
   "version": "3.7.0"
  }
 },
 "nbformat": 4,
 "nbformat_minor": 5
}
